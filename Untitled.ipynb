{
 "cells": [
  {
   "cell_type": "code",
   "execution_count": 9,
   "metadata": {},
   "outputs": [
    {
     "name": "stdout",
     "output_type": "stream",
     "text": [
      "['NANO', 'ICX', 'XLM', 'ZRX', 'BNB', 'ADA', 'SUB']\n"
     ]
    }
   ],
   "source": [
    "import pandas\n",
    "my_dict = {\n",
    "    'Assets': {\n",
    "        'NANO': {\n",
    "            'Price': 0,\n",
    "            'Quantity': 0,\n",
    "            'Pdiff': 0,\n",
    "            'Index': 0\n",
    "        },\n",
    "        'ICX': {\n",
    "            'Price': 0,\n",
    "            'Quantity': 0,\n",
    "            'Pdiff': 0,\n",
    "            'Index': 0,\n",
    "        },\n",
    "        'XLM': {\n",
    "            'Price': 0,\n",
    "            'Quantity': 0,\n",
    "            'Pdiff': 0,\n",
    "            'Index': 0\n",
    "        },\n",
    "        'ZRX': {\n",
    "            'Price': 0,\n",
    "            'Quantity': 0,\n",
    "            'Pdiff': 0,\n",
    "            'Index':0\n",
    "        },\n",
    "        'BNB': {\n",
    "            'Price': 0,\n",
    "            'Assets': 0,\n",
    "            'Pdiff': 0,\n",
    "            'Index': 0\n",
    "        },\n",
    "        'ADA': {\n",
    "            'Price': 0,\n",
    "            'Assets': 0,\n",
    "            'Pdiff': 0,\n",
    "            'Index': 0\n",
    "        },\n",
    "        'SUB': {\n",
    "            'Price': 0,\n",
    "            'Assets': 0,\n",
    "            'Pdiff': 0,\n",
    "            'Index': 0\n",
    "        }\n",
    "    },\n",
    "    #price, symbol/trading_pair, asset_count, %diff\n",
    "    'Portfolio': {\n",
    "            'Value': 0,\n",
    "            'Pchange': 0\n",
    "    },\n",
    "    #value, percent increase\n",
    "    'Time': 0,\n",
    "\n",
    "    'ERROR': 0\n",
    "}\n",
    "#pandas.DataFrame(list(my_dict.iteritems()),\n",
    "                     # columns=['business_id','business_code'])"
   ]
  },
  {
   "cell_type": "code",
   "execution_count": null,
   "metadata": {},
   "outputs": [],
   "source": []
  }
 ],
 "metadata": {
  "kernelspec": {
   "display_name": "Python 3",
   "language": "python",
   "name": "python3"
  },
  "language_info": {
   "codemirror_mode": {
    "name": "ipython",
    "version": 3
   },
   "file_extension": ".py",
   "mimetype": "text/x-python",
   "name": "python",
   "nbconvert_exporter": "python",
   "pygments_lexer": "ipython3",
   "version": "3.6.4"
  }
 },
 "nbformat": 4,
 "nbformat_minor": 2
}
